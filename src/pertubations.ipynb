{
 "cells": [
  {
   "cell_type": "code",
   "execution_count": 1,
   "metadata": {},
   "outputs": [
    {
     "name": "stderr",
     "output_type": "stream",
     "text": [
      "/scratch/f00561n/miniconda3/envs/thesis/lib/python3.12/site-packages/tqdm/auto.py:21: TqdmWarning: IProgress not found. Please update jupyter and ipywidgets. See https://ipywidgets.readthedocs.io/en/stable/user_install.html\n",
      "  from .autonotebook import tqdm as notebook_tqdm\n"
     ]
    }
   ],
   "source": [
    "from module.blocked_attention import load_blocked_attention_model\n",
    "from util.model import get_device_memory_report, clear_cuda_cache, load_model\n",
    "from util.data import load_grammar_data\n",
    "\n",
    "import torch\n",
    "import numpy as np\n",
    "\n",
    "from tqdm import tqdm\n",
    "from warnings import filterwarnings\n",
    "\n",
    "filterwarnings('ignore')"
   ]
  },
  {
   "cell_type": "code",
   "execution_count": 2,
   "metadata": {},
   "outputs": [
    {
     "name": "stdout",
     "output_type": "stream",
     "text": [
      "Device: cuda:5 [NVIDIA RTX 6000 Ada Generation]\n",
      "Free Memory: 45.40/47.50 GB [95.58%]\n"
     ]
    }
   ],
   "source": [
    "device = torch.device(\"cuda:5\" if torch.cuda.is_available() else \"cpu\")\n",
    "get_device_memory_report(device)\n",
    "clear_cuda_cache()"
   ]
  },
  {
   "cell_type": "code",
   "execution_count": 3,
   "metadata": {},
   "outputs": [],
   "source": [
    "def get_layerwise_hidden_states(grammar_path, model, tokenizer, device, batch_size=50):\n",
    "    grammar_data = load_grammar_data(grammar_path)\n",
    "    \n",
    "    layer_wise_good_hidden_states = {}\n",
    "    layer_wise_bad_hidden_states = {}\n",
    "\n",
    "    for i in tqdm(range(0, len(grammar_data), batch_size)):\n",
    "        batch = grammar_data[i:i+batch_size]\n",
    "        good_sentences = [example['sentence_good'] for example in batch]\n",
    "        bad_sentences = [example['sentence_bad'] for example in batch]\n",
    "\n",
    "        good_tokens = tokenizer(good_sentences, return_tensors='pt', padding=True).to(device)\n",
    "        bad_tokens = tokenizer(bad_sentences, return_tensors='pt', padding=True).to(device)\n",
    "\n",
    "        good_tokens = {k: v.to(device) for k, v in good_tokens.items()}\n",
    "        bad_tokens = {k: v.to(device) for k, v in bad_tokens.items()}\n",
    "\n",
    "        with torch.no_grad():\n",
    "            good_outputs = model(\n",
    "                **good_tokens, \n",
    "                output_hidden_states=True, \n",
    "                return_dict=True\n",
    "            )\n",
    "            bad_outputs = model(\n",
    "                **bad_tokens, \n",
    "                output_hidden_states=True, \n",
    "                return_dict=True\n",
    "            )\n",
    "\n",
    "        good_hidden_states = [v.detach().cpu().numpy() for v in good_outputs.hidden_states]\n",
    "        bad_hidden_states  = [v.detach().cpu().numpy() for v in bad_outputs.hidden_states]\n",
    "\n",
    "        good_hidden_states = np.swapaxes(good_hidden_states, 0, 1)\n",
    "        bad_hidden_states  = np.swapaxes(bad_hidden_states, 0, 1)\n",
    "\n",
    "\n",
    "        final_good_hidden_states = good_hidden_states[:, :, -1, :]\n",
    "        final_bad_hidden_states  = bad_hidden_states[:, :, -1, :]\n",
    "\n",
    "\n",
    "        for i in range(len(batch)):\n",
    "            for j in range(len(final_good_hidden_states[i])):\n",
    "\n",
    "                if j not in layer_wise_good_hidden_states:\n",
    "                    layer_wise_good_hidden_states[j] = []\n",
    "                if j not in layer_wise_bad_hidden_states:\n",
    "                    layer_wise_bad_hidden_states[j] = []\n",
    "\n",
    "                layer_wise_good_hidden_states[j].append(final_good_hidden_states[i][j])\n",
    "                layer_wise_bad_hidden_states[j].append(final_bad_hidden_states[i][j])\n",
    "        clear_cuda_cache()\n",
    "\n",
    "    return layer_wise_good_hidden_states, layer_wise_bad_hidden_states        \n"
   ]
  },
  {
   "cell_type": "code",
   "execution_count": 4,
   "metadata": {},
   "outputs": [],
   "source": [
    "from sklearn.linear_model import LogisticRegression\n",
    "from sklearn.ensemble import RandomForestClassifier, GradientBoostingClassifier\n",
    "from sklearn.neural_network import MLPClassifier\n",
    "from sklearn.model_selection import train_test_split\n",
    "from sklearn.preprocessing import StandardScaler\n",
    "\n",
    "\n",
    "def get_layerwise_accuracy(good_hidden_states, bad_hidden_states, test_size=0.25, random_state=42, verbose=False):\n",
    "\n",
    "    train_accuracies = []\n",
    "    test_accuracies = []\n",
    "    for layer_idx in tqdm(good_hidden_states.keys()):\n",
    "        good_hidden_states_layer = good_hidden_states[layer_idx]\n",
    "        bad_hidden_states_layer = bad_hidden_states[layer_idx]\n",
    "\n",
    "        X = np.concatenate([good_hidden_states_layer, bad_hidden_states_layer], axis=0)\n",
    "        y = np.concatenate([np.ones(len(good_hidden_states_layer)), np.zeros(len(bad_hidden_states_layer))], axis=0)\n",
    "\n",
    "        X_train, X_test, y_train, y_test = train_test_split(X, y, test_size=test_size, random_state=random_state)\n",
    "\n",
    "\n",
    "        model = LogisticRegression(\n",
    "            max_iter=500,\n",
    "            random_state=random_state\n",
    "        )\n",
    "        model.fit(X_train, y_train)\n",
    "   \n",
    "        y_test_hat = model.predict(X_test)\n",
    "        y_train_hat = model.predict(X_train)\n",
    "\n",
    "        test_accuracy = np.mean(y_test_hat == y_test)\n",
    "        train_accuracy = np.mean(y_train_hat == y_train)\n",
    "        if verbose:\n",
    "            print(f\"[Layer {layer_idx}] Test accuracy: {test_accuracy:.4f}, Train accuracy: {train_accuracy:.4f}\")\n",
    "\n",
    "        train_accuracies.append(train_accuracy)\n",
    "        test_accuracies.append(test_accuracy)\n",
    "\n",
    "    return train_accuracies, test_accuracies\n"
   ]
  },
  {
   "cell_type": "code",
   "execution_count": 5,
   "metadata": {},
   "outputs": [],
   "source": [
    "import matplotlib.pyplot as plt\n",
    "\n",
    "def plot_layerwise_attention_information(grammar_path, model, tokenizer, device, batch_size=50):\n",
    "    \n",
    "    good_hidden_states, bad_hidden_states = get_layerwise_hidden_states(grammar_path, model, tokenizer, device, batch_size)\n",
    "    train_accuracies, test_accuracies = get_layerwise_accuracy(good_hidden_states, bad_hidden_states)\n",
    "\n",
    "    plt.plot(train_accuracies, label='Train Accuracy')  \n",
    "    plt.plot(test_accuracies, label='Test Accuracy')\n",
    "\n",
    "    plt.scatter(range(len(train_accuracies)), train_accuracies, color='blue', marker='o')\n",
    "    plt.scatter(range(len(test_accuracies)), test_accuracies, color='red', marker='o')\n",
    "\n",
    "    # label every 5 points with the actual accuracy\n",
    "    for i in range(0, len(train_accuracies), 5):\n",
    "        plt.text(i, train_accuracies[i], f'{train_accuracies[i]:.4f}', ha='center', va='bottom')\n",
    "    for i in range(0, len(test_accuracies), 5):\n",
    "        plt.text(i, test_accuracies[i], f'{test_accuracies[i]:.4f}', ha='center', va='bottom')\n",
    "\n",
    "    plt.title('Layerwise Accuracy')\n",
    "    plt.xlabel('Layer')\n",
    "    plt.ylabel('Accuracy')\n",
    "    plt.legend()\n",
    "    plt.show()"
   ]
  },
  {
   "cell_type": "code",
   "execution_count": 6,
   "metadata": {},
   "outputs": [],
   "source": [
    "grammar_path = '../data/blimp/anaphor_number_agreement.jsonl'"
   ]
  },
  {
   "cell_type": "code",
   "execution_count": 7,
   "metadata": {},
   "outputs": [
    {
     "name": "stderr",
     "output_type": "stream",
     "text": [
      "Loading checkpoint shards: 100%|██████████| 2/2 [00:02<00:00,  1.13s/it]\n",
      "100%|██████████| 20/20 [00:07<00:00,  2.61it/s]\n",
      "100%|██████████| 29/29 [00:50<00:00,  1.73s/it]\n"
     ]
    },
    {
     "data": {
      "image/png": "[encoded data removed]",
      "text/plain": [
       "<Figure size 640x480 with 1 Axes>"
      ]
     },
     "metadata": {},
     "output_type": "display_data"
    }
   ],
   "source": [
    "model_id = \"meta-llama/Llama-3.2-3B-Instruct\"\n",
    "basic_model, basic_tokenizer = load_model(model_id, device)\n",
    "\n",
    "plot_layerwise_attention_information(grammar_path, basic_model, basic_tokenizer, device)"
   ]
  },
  {
   "cell_type": "code",
   "execution_count": 8,
   "metadata": {},
   "outputs": [
    {
     "data": {
      "text/plain": [
       "LlamaForCausalLM(\n",
       "  (model): LlamaModel(\n",
       "    (embed_tokens): Embedding(128256, 3072)\n",
       "    (layers): ModuleList(\n",
       "      (0-27): 28 x LlamaDecoderLayer(\n",
       "        (self_attn): LlamaAttention(\n",
       "          (q_proj): Linear(in_features=3072, out_features=3072, bias=False)\n",
       "          (k_proj): Linear(in_features=3072, out_features=1024, bias=False)\n",
       "          (v_proj): Linear(in_features=3072, out_features=1024, bias=False)\n",
       "          (o_proj): Linear(in_features=3072, out_features=3072, bias=False)\n",
       "        )\n",
       "        (mlp): LlamaMLP(\n",
       "          (gate_proj): Linear(in_features=3072, out_features=8192, bias=False)\n",
       "          (up_proj): Linear(in_features=3072, out_features=8192, bias=False)\n",
       "          (down_proj): Linear(in_features=8192, out_features=3072, bias=False)\n",
       "          (act_fn): SiLU()\n",
       "        )\n",
       "        (input_layernorm): LlamaRMSNorm((3072,), eps=1e-05)\n",
       "        (post_attention_layernorm): LlamaRMSNorm((3072,), eps=1e-05)\n",
       "      )\n",
       "    )\n",
       "    (norm): LlamaRMSNorm((3072,), eps=1e-05)\n",
       "    (rotary_emb): LlamaRotaryEmbedding()\n",
       "  )\n",
       "  (lm_head): Linear(in_features=3072, out_features=128256, bias=False)\n",
       ")"
      ]
     },
     "execution_count": 8,
     "metadata": {},
     "output_type": "execute_result"
    }
   ],
   "source": [
    "basic_model"
   ]
  },
  {
   "cell_type": "code",
   "execution_count": 9,
   "metadata": {},
   "outputs": [
    {
     "name": "stderr",
     "output_type": "stream",
     "text": [
      "Loading checkpoint shards: 100%|██████████| 2/2 [00:01<00:00,  1.70it/s]\n"
     ]
    }
   ],
   "source": [
    "from numpy import random\n",
    "\n",
    "def get_blocked_attention_heads(num_layers, num_heads, p_block: float = .1):\n",
    "\n",
    "    disable_idx = {}\n",
    "    for layer in range(num_layers):\n",
    "        disable_idx[layer] = []\n",
    "        for head in range(num_heads):\n",
    "            if random.random() < p_block:\n",
    "                disable_idx[layer].append(head)\n",
    "    return disable_idx\n",
    "\n",
    "\n",
    "n_layers = len(basic_model.model.layers)\n",
    "n_heads = 24\n",
    "\n",
    "blocked_idx = get_blocked_attention_heads(n_layers, n_heads, p_block=.1)\n",
    "\n",
    "blocked_model, blocked_tokenizer = load_blocked_attention_model(model_id, blocked_idx, device)"
   ]
  },
  {
   "cell_type": "code",
   "execution_count": 11,
   "metadata": {},
   "outputs": [],
   "source": [
    "blocked_tokenizer.pad_token = blocked_tokenizer.eos_token"
   ]
  },
  {
   "cell_type": "code",
   "execution_count": 10,
   "metadata": {},
   "outputs": [
    {
     "name": "stderr",
     "output_type": "stream",
     "text": [
      "100%|██████████| 20/20 [00:14<00:00,  1.41it/s]\n",
      " 52%|█████▏    | 15/29 [00:30<00:42,  3.01s/it]"
     ]
    }
   ],
   "source": [
    "plot_layerwise_attention_information(grammar_path, blocked_model, blocked_tokenizer, device)"
   ]
  }
 ],
 "metadata": {
  "kernelspec": {
   "display_name": "thesis",
   "language": "python",
   "name": "python3"
  },
  "language_info": {
   "codemirror_mode": {
    "name": "ipython",
    "version": 3
   },
   "file_extension": ".py",
   "mimetype": "text/x-python",
   "name": "python",
   "nbconvert_exporter": "python",
   "pygments_lexer": "ipython3",
   "version": "3.12.9"
  }
 },
 "nbformat": 4,
 "nbformat_minor": 2
}
