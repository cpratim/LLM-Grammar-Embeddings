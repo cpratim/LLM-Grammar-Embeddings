{
 "cells": [
  {
   "cell_type": "code",
   "execution_count": 1,
   "metadata": {},
   "outputs": [],
   "source": [
    "import torch\n",
    "import torch.nn as nn\n",
    "import torch.optim as optim\n",
    "import torch.nn.functional as F\n",
    "from warnings import filterwarnings\n",
    "\n",
    "filterwarnings('ignore')"
   ]
  },
  {
   "cell_type": "code",
   "execution_count": 2,
   "metadata": {},
   "outputs": [],
   "source": [
    "from util.helpers import *"
   ]
  },
  {
   "cell_type": "code",
   "execution_count": 3,
   "metadata": {},
   "outputs": [
    {
     "name": "stdout",
     "output_type": "stream",
     "text": [
      "Device: cuda [NVIDIA RTX 6000 Ada Generation]\n",
      "Free Memory: 44.73/47.50 GB [94.17%]\n"
     ]
    }
   ],
   "source": [
    "device = torch.device('cuda' if torch.cuda.is_available() else 'cpu')\n",
    "\n",
    "def get_device_memory_report(device):\n",
    "    print(f'Device: {device} [{torch.cuda.get_device_name(device)}]')\n",
    "    free_memory, total_memory = torch.cuda.mem_get_info(device)\n",
    "    \n",
    "    free_memory_gb = free_memory / (1024 ** 3)\n",
    "    total_memory_gb = total_memory / (1024 ** 3)\n",
    "    \n",
    "    print(f\"Free Memory: {free_memory_gb:.2f}/{total_memory_gb:.2f} GB [{free_memory / total_memory * 100:.2f}%]\")\n",
    "\n",
    "get_device_memory_report(device)"
   ]
  },
  {
   "cell_type": "code",
   "execution_count": 4,
   "metadata": {},
   "outputs": [
    {
     "name": "stderr",
     "output_type": "stream",
     "text": [
      "100%|██████████| 10/10 [00:01<00:00,  8.75it/s]\n",
      "100%|██████████| 10/10 [00:00<00:00, 16.05it/s]\n",
      "100%|██████████| 10/10 [00:00<00:00, 17.22it/s]\n",
      "100%|██████████| 10/10 [00:00<00:00, 11.20it/s]\n",
      "100%|██████████| 10/10 [00:00<00:00, 12.94it/s]\n",
      "100%|██████████| 10/10 [00:00<00:00, 16.70it/s]\n",
      "100%|██████████| 10/10 [00:00<00:00, 12.10it/s]\n",
      "100%|██████████| 10/10 [00:00<00:00, 12.22it/s]\n",
      "100%|██████████| 10/10 [00:01<00:00,  7.92it/s]\n",
      "100%|██████████| 10/10 [00:00<00:00, 12.22it/s]\n"
     ]
    }
   ],
   "source": [
    "positive_encodings, negative_encodings = load_complete_dataset(n_files=10)"
   ]
  },
  {
   "cell_type": "code",
   "execution_count": 11,
   "metadata": {},
   "outputs": [],
   "source": [
    "class MLPClassifier(nn.Module):\n",
    "    def __init__(self, input_size, hidden_size, output_size):\n",
    "        super(MLPClassifier, self).__init__()\n",
    "        self.fc1 = nn.Linear(input_size, hidden_size)\n",
    "        self.fc2 = nn.Linear(hidden_size, hidden_size)\n",
    "        self.fc3 = nn.Linear(hidden_size, output_size)\n",
    "        self.dropout = nn.Dropout(0.01)\n",
    "        self.sinu = nn.SiLU()\n",
    "        self.batchnorm = nn.BatchNorm1d(hidden_size)\n",
    "        self.softmax = nn.Softmax(dim=1)\n",
    "\n",
    "    def forward(self, x):\n",
    "        x = self.fc1(x)\n",
    "        x = self.batchnorm(x)\n",
    "        x = self.sinu(x)\n",
    "        x = self.dropout(x)\n",
    "        x = self.fc2(x)\n",
    "        x = self.batchnorm(x)\n",
    "        x = self.sinu(x)\n",
    "        x = self.dropout(x)\n",
    "        x = self.fc3(x)\n",
    "        x = self.softmax(x)\n",
    "        return x"
   ]
  },
  {
   "cell_type": "code",
   "execution_count": 12,
   "metadata": {},
   "outputs": [],
   "source": [
    "batch_size = 16\n",
    "\n",
    "dataset = torch.concat([positive_encodings, negative_encodings], dim=0)\n",
    "labels = torch.tensor([1] * len(positive_encodings) + [0] * len(negative_encodings))\n",
    "\n",
    "dataset = torch.utils.data.TensorDataset(dataset, labels)\n",
    "\n",
    "train_dataset, test_dataset = torch.utils.data.random_split(dataset, [int(0.8 * len(dataset)), len(dataset) - int(0.8 * len(dataset))])\n",
    "\n",
    "train_loader = torch.utils.data.DataLoader(train_dataset, batch_size=batch_size, shuffle=True)\n",
    "test_loader = torch.utils.data.DataLoader(test_dataset, batch_size=batch_size, shuffle=False)"
   ]
  },
  {
   "cell_type": "code",
   "execution_count": 15,
   "metadata": {},
   "outputs": [
    {
     "name": "stdout",
     "output_type": "stream",
     "text": [
      "[Epoch 1] | Loss: 0.644\n",
      "[Epoch 2] | Loss: 0.65\n",
      "[Epoch 3] | Loss: 0.554\n",
      "[Epoch 4] | Loss: 0.47\n",
      "[Epoch 5] | Loss: 0.5\n",
      "[Epoch 6] | Loss: 0.484\n",
      "[Epoch 7] | Loss: 0.517\n",
      "[Epoch 8] | Loss: 0.478\n",
      "[Epoch 9] | Loss: 0.509\n",
      "[Epoch 10] | Loss: 0.47\n"
     ]
    }
   ],
   "source": [
    "learning_rate = 2 * 1e-6\n",
    "num_epochs = 10\n",
    "input_size = 2048\n",
    "hidden_size = 1024\n",
    "n_classes = 2\n",
    "\n",
    "model = MLPClassifier(input_size, hidden_size, n_classes)\n",
    "model = model.to(device)\n",
    "\n",
    "criterion = nn.CrossEntropyLoss()\n",
    "optimizer = optim.Adam(model.parameters(), lr=learning_rate)\n",
    "\n",
    "for epoch in range(num_epochs):\n",
    "    for i, (data, labels) in enumerate(train_loader):\n",
    "\n",
    "        data = data.to(device).float()\n",
    "        labels = labels.to(device).long()\n",
    "\n",
    "        optimizer.zero_grad()\n",
    "        outputs = model(data)\n",
    "        loss = criterion(outputs, labels)\n",
    "        loss.backward()\n",
    "        optimizer.step()\n",
    "\n",
    "    print(f'[Epoch {epoch + 1}] | Loss: {round(loss.item(), 3)}')"
   ]
  },
  {
   "cell_type": "code",
   "execution_count": 16,
   "metadata": {},
   "outputs": [
    {
     "name": "stdout",
     "output_type": "stream",
     "text": [
      "Test Accuracy: 0.81\n"
     ]
    }
   ],
   "source": [
    "train_acc = 0\n",
    "\n",
    "with torch.no_grad():\n",
    "    for data, labels in test_loader:\n",
    "        data = data.to(device).float()\n",
    "        labels = labels.to(device).long()\n",
    "\n",
    "        outputs = model(data)\n",
    "        _, predicted = torch.max(outputs.data, 1)\n",
    "        train_acc += (predicted == labels).sum().item()\n",
    "\n",
    "print(f'Test Accuracy: {round(train_acc / len(test_dataset), 3)}')"
   ]
  },
  {
   "cell_type": "code",
   "execution_count": 17,
   "metadata": {},
   "outputs": [
    {
     "name": "stdout",
     "output_type": "stream",
     "text": [
      "Test Accuracy: 0.81\n"
     ]
    }
   ],
   "source": [
    "test_acc = 0\n",
    "with torch.no_grad():\n",
    "    for data, labels in test_loader:\n",
    "        data = data.to(device).float()\n",
    "        labels = labels.to(device).long()\n",
    "\n",
    "        outputs = model(data)\n",
    "        _, predicted = torch.max(outputs.data, 1)\n",
    "        test_acc += (predicted == labels).sum().item()\n",
    "\n",
    "print(f'Test Accuracy: {round(test_acc / len(test_dataset), 3)}')"
   ]
  },
  {
   "cell_type": "code",
   "execution_count": 18,
   "metadata": {},
   "outputs": [
    {
     "name": "stderr",
     "output_type": "stream",
     "text": [
      "100%|██████████| 10/10 [00:01<00:00,  6.07it/s]\n",
      "100%|██████████| 10/10 [00:01<00:00,  6.81it/s]\n",
      "100%|██████████| 10/10 [00:01<00:00,  7.09it/s]\n",
      "100%|██████████| 10/10 [00:01<00:00,  5.53it/s]\n",
      "100%|██████████| 10/10 [00:01<00:00,  6.06it/s]\n",
      "100%|██████████| 10/10 [00:01<00:00,  6.96it/s]\n",
      "100%|██████████| 10/10 [00:01<00:00,  5.73it/s]\n",
      "100%|██████████| 10/10 [00:01<00:00,  5.82it/s]\n",
      "100%|██████████| 10/10 [00:02<00:00,  4.73it/s]\n",
      "100%|██████████| 10/10 [00:01<00:00,  5.75it/s]\n"
     ]
    }
   ],
   "source": [
    "positive_encodings_prompt, negative_encodings_prompt = load_complete_dataset(n_files=10, add_grammar_prompt=True)"
   ]
  },
  {
   "cell_type": "code",
   "execution_count": 19,
   "metadata": {},
   "outputs": [],
   "source": [
    "batch_size = 16\n",
    "\n",
    "dataset_prompt = torch.concat([positive_encodings_prompt, negative_encodings_prompt], dim=0)\n",
    "labels_prompt = torch.tensor([1] * len(positive_encodings_prompt) + [0] * len(negative_encodings_prompt))\n",
    "\n",
    "dataset_prompt = torch.utils.data.TensorDataset(dataset_prompt, labels_prompt)\n",
    "\n",
    "train_dataset, test_dataset = torch.utils.data.random_split(dataset_prompt, [int(0.8 * len(dataset_prompt)), len(dataset_prompt) - int(0.8 * len(dataset_prompt))])\n",
    "\n",
    "train_loader = torch.utils.data.DataLoader(train_dataset, batch_size=batch_size, shuffle=True)\n",
    "test_loader = torch.utils.data.DataLoader(test_dataset, batch_size=batch_size, shuffle=False)"
   ]
  },
  {
   "cell_type": "code",
   "execution_count": 21,
   "metadata": {},
   "outputs": [
    {
     "name": "stdout",
     "output_type": "stream",
     "text": [
      "[Epoch 1] | Loss: 0.66\n",
      "[Epoch 2] | Loss: 0.544\n",
      "[Epoch 3] | Loss: 0.577\n",
      "[Epoch 4] | Loss: 0.479\n",
      "[Epoch 5] | Loss: 0.457\n",
      "[Epoch 6] | Loss: 0.588\n",
      "[Epoch 7] | Loss: 0.507\n",
      "[Epoch 8] | Loss: 0.426\n",
      "[Epoch 9] | Loss: 0.612\n",
      "[Epoch 10] | Loss: 0.516\n"
     ]
    }
   ],
   "source": [
    "model_prompt = MLPClassifier(input_size, hidden_size, n_classes)\n",
    "model_prompt = model_prompt.to(device)\n",
    "\n",
    "criterion = nn.CrossEntropyLoss()\n",
    "optimizer = optim.Adam(model_prompt.parameters(), lr=learning_rate)\n",
    "\n",
    "for epoch in range(num_epochs):\n",
    "    for i, (data, labels) in enumerate(train_loader):\n",
    "\n",
    "        data = data.to(device).float()\n",
    "        labels = labels.to(device).long()\n",
    "\n",
    "        optimizer.zero_grad()\n",
    "        outputs = model_prompt(data)\n",
    "        loss = criterion(outputs, labels)\n",
    "        loss.backward()\n",
    "        optimizer.step()\n",
    "\n",
    "    print(f'[Epoch {epoch + 1}] | Loss: {round(loss.item(), 3)}')"
   ]
  },
  {
   "cell_type": "code",
   "execution_count": 22,
   "metadata": {},
   "outputs": [
    {
     "name": "stdout",
     "output_type": "stream",
     "text": [
      "Test Accuracy: 0.809\n"
     ]
    }
   ],
   "source": [
    "train_acc = 0\n",
    "\n",
    "with torch.no_grad():\n",
    "    for data, labels in test_loader:\n",
    "        data = data.to(device).float()\n",
    "        labels = labels.to(device).long()\n",
    "\n",
    "        outputs = model_prompt(data)\n",
    "        _, predicted = torch.max(outputs.data, 1)\n",
    "        train_acc += (predicted == labels).sum().item()\n",
    "\n",
    "print(f'Test Accuracy: {round(train_acc / len(test_dataset), 3)}')"
   ]
  },
  {
   "cell_type": "code",
   "execution_count": 23,
   "metadata": {},
   "outputs": [
    {
     "name": "stdout",
     "output_type": "stream",
     "text": [
      "Test Accuracy: 0.809\n"
     ]
    }
   ],
   "source": [
    "test_acc = 0\n",
    "with torch.no_grad():\n",
    "    for data, labels in test_loader:\n",
    "        data = data.to(device).float()\n",
    "        labels = labels.to(device).long()\n",
    "\n",
    "        outputs = model_prompt(data)\n",
    "        _, predicted = torch.max(outputs.data, 1)\n",
    "        test_acc += (predicted == labels).sum().item()\n",
    "\n",
    "print(f'Test Accuracy: {round(test_acc / len(test_dataset), 3)}')"
   ]
  },
  {
   "cell_type": "code",
   "execution_count": 24,
   "metadata": {},
   "outputs": [],
   "source": [
    "positive_sentences, negative_sentences = get_blimp_dataset()"
   ]
  },
  {
   "cell_type": "code",
   "execution_count": null,
   "metadata": {},
   "outputs": [],
   "source": [
    "def get_labels(sentences, model, tokenizer):\n",
    "    pass"
   ]
  }
 ],
 "metadata": {
  "kernelspec": {
   "display_name": "thesis",
   "language": "python",
   "name": "python3"
  },
  "language_info": {
   "codemirror_mode": {
    "name": "ipython",
    "version": 3
   },
   "file_extension": ".py",
   "mimetype": "text/x-python",
   "name": "python",
   "nbconvert_exporter": "python",
   "pygments_lexer": "ipython3",
   "version": "3.12.9"
  }
 },
 "nbformat": 4,
 "nbformat_minor": 2
}
