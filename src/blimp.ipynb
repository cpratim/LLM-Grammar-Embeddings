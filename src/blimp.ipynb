{
 "cells": [
  {
   "cell_type": "code",
   "execution_count": null,
   "metadata": {},
   "outputs": [
    {
     "name": "stderr",
     "output_type": "stream",
     "text": [
      "/thayerfs/home/f00561n/miniconda3/envs/thesis/lib/python3.12/site-packages/tqdm/auto.py:21: TqdmWarning: IProgress not found. Please update jupyter and ipywidgets. See https://ipywidgets.readthedocs.io/en/stable/user_install.html\n",
      "  from .autonotebook import tqdm as notebook_tqdm\n"
     ]
    }
   ],
   "source": [
    "import sys\n",
    "import os\n",
    "\n",
    "current_dir = os.getcwd()  \n",
    "util_dir = os.path.join(current_dir, '../util')\n",
    "sys.path.append(util_dir)"
   ]
  },
  {
   "cell_type": "code",
   "execution_count": null,
   "metadata": {},
   "outputs": [],
   "source": [
    "from helpers import *\n",
    "from warnings import filterwarnings\n",
    "\n",
    "import torch\n",
    "import torch.nn as nn\n",
    "import torch.optim as optim\n",
    "import torch.nn.functional as F\n",
    "\n",
    "filterwarnings('ignore')\n",
    "\n",
    "device = torch.device('cuda' if torch.cuda.is_available() else 'cpu')"
   ]
  },
  {
   "cell_type": "code",
   "execution_count": 2,
   "metadata": {},
   "outputs": [
    {
     "name": "stdout",
     "output_type": "stream",
     "text": [
      "Using device: cuda\n"
     ]
    }
   ],
   "source": [
    "print(f'Using device: {device}')"
   ]
  },
  {
   "cell_type": "code",
   "execution_count": 3,
   "metadata": {},
   "outputs": [
    {
     "name": "stderr",
     "output_type": "stream",
     "text": [
      "Loading checkpoint shards: 100%|██████████| 2/2 [00:02<00:00,  1.00s/it]\n",
      "100%|██████████| 10/10 [00:03<00:00,  3.14it/s]\n",
      "100%|██████████| 10/10 [00:01<00:00,  6.04it/s]\n",
      "100%|██████████| 10/10 [00:01<00:00,  6.53it/s]\n",
      "100%|██████████| 10/10 [00:02<00:00,  4.07it/s]\n",
      "100%|██████████| 10/10 [00:02<00:00,  4.73it/s]\n",
      "100%|██████████| 10/10 [00:01<00:00,  6.30it/s]\n",
      "100%|██████████| 10/10 [00:02<00:00,  4.36it/s]\n",
      "100%|██████████| 10/10 [00:02<00:00,  4.42it/s]\n",
      "100%|██████████| 10/10 [00:03<00:00,  2.92it/s]\n",
      "100%|██████████| 10/10 [00:02<00:00,  4.44it/s]\n"
     ]
    }
   ],
   "source": [
    "positive_encodings, negative_encodings = load_complete_dataset(n_files=10)"
   ]
  },
  {
   "cell_type": "code",
   "execution_count": 4,
   "metadata": {},
   "outputs": [],
   "source": [
    "class MLPClassifier(nn.Module):\n",
    "    def __init__(self, input_size, hidden_size, output_size):\n",
    "        super(MLPClassifier, self).__init__()\n",
    "        self.fc1 = nn.Linear(input_size, hidden_size)\n",
    "        self.fc2 = nn.Linear(hidden_size, hidden_size)\n",
    "        self.fc3 = nn.Linear(hidden_size, output_size)\n",
    "        self.dropout = nn.Dropout(0.01)\n",
    "        self.sinu = nn.SiLU()\n",
    "        self.batchnorm = nn.BatchNorm1d(hidden_size)\n",
    "        self.softmax = nn.Softmax(dim=1)\n",
    "\n",
    "    def forward(self, x):\n",
    "        x = self.fc1(x)\n",
    "        x = self.batchnorm(x)\n",
    "        x = self.sinu(x)\n",
    "        x = self.dropout(x)\n",
    "        x = self.fc2(x)\n",
    "        x = self.batchnorm(x)\n",
    "        x = self.sinu(x)\n",
    "        x = self.dropout(x)\n",
    "        x = self.fc3(x)\n",
    "        x = self.softmax(x)\n",
    "        return x"
   ]
  },
  {
   "cell_type": "code",
   "execution_count": 5,
   "metadata": {},
   "outputs": [],
   "source": [
    "batch_size = 16\n",
    "\n",
    "dataset = torch.concat([positive_encodings, negative_encodings], dim=0)\n",
    "labels = torch.tensor([1] * len(positive_encodings) + [0] * len(negative_encodings))\n",
    "\n",
    "dataset = torch.utils.data.TensorDataset(dataset, labels)\n",
    "\n",
    "train_dataset, test_dataset = torch.utils.data.random_split(dataset, [int(0.8 * len(dataset)), len(dataset) - int(0.8 * len(dataset))])\n",
    "\n",
    "train_loader = torch.utils.data.DataLoader(train_dataset, batch_size=batch_size, shuffle=True)\n",
    "test_loader = torch.utils.data.DataLoader(test_dataset, batch_size=batch_size, shuffle=False)"
   ]
  },
  {
   "cell_type": "code",
   "execution_count": 6,
   "metadata": {},
   "outputs": [
    {
     "name": "stdout",
     "output_type": "stream",
     "text": [
      "[Epoch 1] | Loss: 0.631\n",
      "[Epoch 2] | Loss: 0.546\n",
      "[Epoch 3] | Loss: 0.391\n",
      "[Epoch 4] | Loss: 0.486\n",
      "[Epoch 5] | Loss: 0.41\n",
      "[Epoch 6] | Loss: 0.487\n",
      "[Epoch 7] | Loss: 0.347\n",
      "[Epoch 8] | Loss: 0.343\n",
      "[Epoch 9] | Loss: 0.381\n",
      "[Epoch 10] | Loss: 0.436\n",
      "[Epoch 11] | Loss: 0.548\n",
      "[Epoch 12] | Loss: 0.406\n",
      "[Epoch 13] | Loss: 0.381\n",
      "[Epoch 14] | Loss: 0.436\n",
      "[Epoch 15] | Loss: 0.325\n"
     ]
    }
   ],
   "source": [
    "learning_rate = 1e-5\n",
    "num_epochs = 15\n",
    "input_size = 3072\n",
    "hidden_size = 1024\n",
    "n_classes = 2\n",
    "\n",
    "model = MLPClassifier(input_size, hidden_size, n_classes)\n",
    "model = model.to(device)\n",
    "\n",
    "criterion = nn.CrossEntropyLoss()\n",
    "optimizer = optim.Adam(model.parameters(), lr=learning_rate)\n",
    "\n",
    "for epoch in range(num_epochs):\n",
    "    for i, (data, labels) in enumerate(train_loader):\n",
    "\n",
    "        data = data.to(device).float()\n",
    "        labels = labels.to(device).long()\n",
    "\n",
    "        optimizer.zero_grad()\n",
    "        outputs = model(data)\n",
    "        loss = criterion(outputs, labels)\n",
    "        loss.backward()\n",
    "        optimizer.step()\n",
    "\n",
    "    print(f'[Epoch {epoch + 1}] | Loss: {round(loss.item(), 3)}')"
   ]
  },
  {
   "cell_type": "code",
   "execution_count": 7,
   "metadata": {},
   "outputs": [
    {
     "name": "stdout",
     "output_type": "stream",
     "text": [
      "Test Accuracy: 0.88\n"
     ]
    }
   ],
   "source": [
    "train_acc = 0\n",
    "\n",
    "with torch.no_grad():\n",
    "    for data, labels in test_loader:\n",
    "        data = data.to(device).float()\n",
    "        labels = labels.to(device).long()\n",
    "\n",
    "        outputs = model(data)\n",
    "        _, predicted = torch.max(outputs.data, 1)\n",
    "        train_acc += (predicted == labels).sum().item()\n",
    "\n",
    "print(f'Test Accuracy: {round(train_acc / len(test_dataset), 3)}')"
   ]
  },
  {
   "cell_type": "code",
   "execution_count": 8,
   "metadata": {},
   "outputs": [
    {
     "name": "stdout",
     "output_type": "stream",
     "text": [
      "Test Accuracy: 0.881\n"
     ]
    }
   ],
   "source": [
    "test_acc = 0\n",
    "with torch.no_grad():\n",
    "    for data, labels in test_loader:\n",
    "        data = data.to(device).float()\n",
    "        labels = labels.to(device).long()\n",
    "\n",
    "        outputs = model(data)\n",
    "        _, predicted = torch.max(outputs.data, 1)\n",
    "        test_acc += (predicted == labels).sum().item()\n",
    "\n",
    "print(f'Test Accuracy: {round(test_acc / len(test_dataset), 3)}')"
   ]
  }
 ],
 "metadata": {
  "kernelspec": {
   "display_name": "thesis",
   "language": "python",
   "name": "python3"
  },
  "language_info": {
   "codemirror_mode": {
    "name": "ipython",
    "version": 3
   },
   "file_extension": ".py",
   "mimetype": "text/x-python",
   "name": "python",
   "nbconvert_exporter": "python",
   "pygments_lexer": "ipython3",
   "version": "3.12.9"
  }
 },
 "nbformat": 4,
 "nbformat_minor": 2
}
